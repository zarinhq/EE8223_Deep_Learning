{
  "cells": [
    {
      "cell_type": "markdown",
      "id": "918c2cab",
      "metadata": {
        "id": "918c2cab"
      },
      "source": [
        "## Install Dependencies"
      ]
    },
    {
      "cell_type": "code",
      "source": [
        "# Connecting to Google drive in order to store the weights of the agents HDF5 files.\n",
        "from google.colab import drive\n",
        "\n",
        "drive.mount('/content/gdrive');"
      ],
      "metadata": {
        "id": "WGXOKY6zmXwU",
        "colab": {
          "base_uri": "https://localhost:8080/"
        },
        "outputId": "be73b5b8-935e-4991-c6e5-b34a4277eb0d"
      },
      "id": "WGXOKY6zmXwU",
      "execution_count": null,
      "outputs": [
        {
          "output_type": "stream",
          "name": "stdout",
          "text": [
            "Mounted at /content/gdrive\n"
          ]
        }
      ]
    },
    {
      "cell_type": "code",
      "execution_count": null,
      "id": "72f7194c",
      "metadata": {
        "id": "72f7194c"
      },
      "outputs": [],
      "source": [
        "seed_value = 42\n",
        "import os\n",
        "os.environ['PYTHONHASHSEED']=str(seed_value)"
      ]
    },
    {
      "cell_type": "code",
      "execution_count": null,
      "id": "e3bfe605",
      "metadata": {
        "id": "e3bfe605",
        "colab": {
          "base_uri": "https://localhost:8080/"
        },
        "outputId": "555a55c6-2cb7-41e2-e849-d42c6af1e796"
      },
      "outputs": [
        {
          "output_type": "stream",
          "name": "stdout",
          "text": [
            "Looking in indexes: https://pypi.org/simple, https://us-python.pkg.dev/colab-wheels/public/simple/\n",
            "Collecting wfdb\n",
            "  Downloading wfdb-4.1.0-py3-none-any.whl (159 kB)\n",
            "\u001b[K     |████████████████████████████████| 159 kB 4.2 MB/s \n",
            "\u001b[?25hCollecting wget\n",
            "  Downloading wget-3.2.zip (10 kB)\n",
            "Requirement already satisfied: tqdm in /usr/local/lib/python3.8/dist-packages (4.64.1)\n",
            "Collecting biosppy\n",
            "  Downloading biosppy-1.0.0-py2.py3-none-any.whl (106 kB)\n",
            "\u001b[K     |████████████████████████████████| 106 kB 44.7 MB/s \n",
            "\u001b[?25hRequirement already satisfied: imbalanced-learn in /usr/local/lib/python3.8/dist-packages (0.8.1)\n",
            "Requirement already satisfied: seaborn in /usr/local/lib/python3.8/dist-packages (0.11.2)\n",
            "Requirement already satisfied: scipy<2.0.0,>=1.0.0 in /usr/local/lib/python3.8/dist-packages (from wfdb) (1.7.3)\n",
            "Requirement already satisfied: pandas<2.0.0,>=1.0.0 in /usr/local/lib/python3.8/dist-packages (from wfdb) (1.3.5)\n",
            "Requirement already satisfied: SoundFile<0.12.0,>=0.10.0 in /usr/local/lib/python3.8/dist-packages (from wfdb) (0.11.0)\n",
            "Requirement already satisfied: matplotlib<4.0.0,>=3.2.2 in /usr/local/lib/python3.8/dist-packages (from wfdb) (3.2.2)\n",
            "Requirement already satisfied: numpy<2.0.0,>=1.10.1 in /usr/local/lib/python3.8/dist-packages (from wfdb) (1.21.6)\n",
            "Requirement already satisfied: requests<3.0.0,>=2.8.1 in /usr/local/lib/python3.8/dist-packages (from wfdb) (2.23.0)\n",
            "Requirement already satisfied: cycler>=0.10 in /usr/local/lib/python3.8/dist-packages (from matplotlib<4.0.0,>=3.2.2->wfdb) (0.11.0)\n",
            "Requirement already satisfied: python-dateutil>=2.1 in /usr/local/lib/python3.8/dist-packages (from matplotlib<4.0.0,>=3.2.2->wfdb) (2.8.2)\n",
            "Requirement already satisfied: kiwisolver>=1.0.1 in /usr/local/lib/python3.8/dist-packages (from matplotlib<4.0.0,>=3.2.2->wfdb) (1.4.4)\n",
            "Requirement already satisfied: pyparsing!=2.0.4,!=2.1.2,!=2.1.6,>=2.0.1 in /usr/local/lib/python3.8/dist-packages (from matplotlib<4.0.0,>=3.2.2->wfdb) (3.0.9)\n",
            "Requirement already satisfied: pytz>=2017.3 in /usr/local/lib/python3.8/dist-packages (from pandas<2.0.0,>=1.0.0->wfdb) (2022.6)\n",
            "Requirement already satisfied: six>=1.5 in /usr/local/lib/python3.8/dist-packages (from python-dateutil>=2.1->matplotlib<4.0.0,>=3.2.2->wfdb) (1.15.0)\n",
            "Requirement already satisfied: idna<3,>=2.5 in /usr/local/lib/python3.8/dist-packages (from requests<3.0.0,>=2.8.1->wfdb) (2.10)\n",
            "Requirement already satisfied: certifi>=2017.4.17 in /usr/local/lib/python3.8/dist-packages (from requests<3.0.0,>=2.8.1->wfdb) (2022.12.7)\n",
            "Requirement already satisfied: chardet<4,>=3.0.2 in /usr/local/lib/python3.8/dist-packages (from requests<3.0.0,>=2.8.1->wfdb) (3.0.4)\n",
            "Requirement already satisfied: urllib3!=1.25.0,!=1.25.1,<1.26,>=1.21.1 in /usr/local/lib/python3.8/dist-packages (from requests<3.0.0,>=2.8.1->wfdb) (1.24.3)\n",
            "Requirement already satisfied: cffi>=1.0 in /usr/local/lib/python3.8/dist-packages (from SoundFile<0.12.0,>=0.10.0->wfdb) (1.15.1)\n",
            "Requirement already satisfied: pycparser in /usr/local/lib/python3.8/dist-packages (from cffi>=1.0->SoundFile<0.12.0,>=0.10.0->wfdb) (2.21)\n",
            "Collecting shortuuid\n",
            "  Downloading shortuuid-1.0.11-py3-none-any.whl (10 kB)\n",
            "Requirement already satisfied: joblib in /usr/local/lib/python3.8/dist-packages (from biosppy) (1.2.0)\n",
            "Requirement already satisfied: opencv-python in /usr/local/lib/python3.8/dist-packages (from biosppy) (4.6.0.66)\n",
            "Requirement already satisfied: scikit-learn in /usr/local/lib/python3.8/dist-packages (from biosppy) (1.0.2)\n",
            "Collecting bidict\n",
            "  Downloading bidict-0.22.0-py3-none-any.whl (36 kB)\n",
            "Requirement already satisfied: h5py in /usr/local/lib/python3.8/dist-packages (from biosppy) (3.1.0)\n",
            "Requirement already satisfied: threadpoolctl>=2.0.0 in /usr/local/lib/python3.8/dist-packages (from scikit-learn->biosppy) (3.1.0)\n",
            "Building wheels for collected packages: wget\n",
            "  Building wheel for wget (setup.py) ... \u001b[?25l\u001b[?25hdone\n",
            "  Created wheel for wget: filename=wget-3.2-py3-none-any.whl size=9674 sha256=92989be733755c374fe8a0fe75792c3733bc7e217f06012bb6b37fd6639b8853\n",
            "  Stored in directory: /root/.cache/pip/wheels/bd/a8/c3/3cf2c14a1837a4e04bd98631724e81f33f462d86a1d895fae0\n",
            "Successfully built wget\n",
            "Installing collected packages: shortuuid, bidict, wget, wfdb, biosppy\n",
            "Successfully installed bidict-0.22.0 biosppy-1.0.0 shortuuid-1.0.11 wfdb-4.1.0 wget-3.2\n"
          ]
        }
      ],
      "source": [
        "pip install wfdb wget tqdm biosppy imbalanced-learn seaborn"
      ]
    },
    {
      "cell_type": "code",
      "source": [
        "pip install tensorflow-determinism"
      ],
      "metadata": {
        "id": "WBEYp1L91I99",
        "colab": {
          "base_uri": "https://localhost:8080/"
        },
        "outputId": "2ce8b55b-6177-4182-ec33-8a2b2e8c9717"
      },
      "id": "WBEYp1L91I99",
      "execution_count": null,
      "outputs": [
        {
          "output_type": "stream",
          "name": "stdout",
          "text": [
            "Looking in indexes: https://pypi.org/simple, https://us-python.pkg.dev/colab-wheels/public/simple/\n",
            "Collecting tensorflow-determinism\n",
            "  Downloading tensorflow-determinism-0.3.0.tar.gz (12 kB)\n",
            "Building wheels for collected packages: tensorflow-determinism\n",
            "  Building wheel for tensorflow-determinism (setup.py) ... \u001b[?25l\u001b[?25hdone\n",
            "  Created wheel for tensorflow-determinism: filename=tensorflow_determinism-0.3.0-py3-none-any.whl size=9155 sha256=0947b73f642fb59c03f4ce2bd00437f4779f9fa246c2c5be6297239ceb1e5fb5\n",
            "  Stored in directory: /root/.cache/pip/wheels/bf/5e/dd/9670c2d20867bcff6eb19199822f6b32f16bbe01bea1cd35a8\n",
            "Successfully built tensorflow-determinism\n",
            "Installing collected packages: tensorflow-determinism\n",
            "Successfully installed tensorflow-determinism-0.3.0\n"
          ]
        }
      ]
    },
    {
      "cell_type": "markdown",
      "id": "c6250356",
      "metadata": {
        "id": "c6250356"
      },
      "source": [
        "## Importing Libraries"
      ]
    },
    {
      "cell_type": "code",
      "execution_count": null,
      "id": "713c0a4c",
      "metadata": {
        "id": "713c0a4c"
      },
      "outputs": [],
      "source": [
        "import tensorflow as tf\n",
        "import matplotlib.pyplot as plt\n",
        "import pandas as pd\n",
        "import numpy as np\n",
        "from glob import glob\n",
        "import wget\n",
        "import math\n",
        "import zipfile\n",
        "import wfdb as wf\n",
        "import pickle\n",
        "import sys\n",
        "import datetime\n",
        "import cv2\n",
        "import random\n",
        "import random as python_random\n",
        "from scipy import signal\n",
        "from scipy.signal import resample\n",
        "from scipy.signal import find_peaks\n",
        "from pathlib import Path\n",
        "from sklearn.model_selection import train_test_split\n",
        "from collections import Counter\n",
        "from sklearn.preprocessing import LabelEncoder\n",
        "from imblearn.over_sampling import SMOTE"
      ]
    },
    {
      "cell_type": "code",
      "execution_count": null,
      "id": "bc66bc35",
      "metadata": {
        "id": "bc66bc35"
      },
      "outputs": [],
      "source": [
        "def reset_random_seeds():\n",
        "   os.environ['PYTHONHASHSEED']=str(seed_value)\n",
        "   tf.random.set_seed(seed_value)\n",
        "   np.random.seed(seed_value)\n",
        "   random.seed(seed_value)\n",
        "   os.environ['TF_DETERMINISTIC_OPS'] = '1'"
      ]
    },
    {
      "cell_type": "code",
      "execution_count": null,
      "id": "846dd319",
      "metadata": {
        "id": "846dd319",
        "colab": {
          "base_uri": "https://localhost:8080/"
        },
        "outputId": "6f5c3d4e-cebc-420e-899c-fe98073faa79"
      },
      "outputs": [
        {
          "output_type": "stream",
          "name": "stdout",
          "text": [
            "7\n",
            "0.6394267984578837\n",
            "tf.Tensor([0.6645621], shape=(1,), dtype=float32)\n"
          ]
        }
      ],
      "source": [
        "np.random.seed(seed_value)\n",
        "vec = np.random.randint(1, 10)\n",
        "print(vec)\n",
        "random.seed(42)\n",
        "print(random.random())\n",
        "tf.random.set_seed(42)\n",
        "print(tf.random.uniform([1])) "
      ]
    },
    {
      "cell_type": "markdown",
      "id": "222ea7e0",
      "metadata": {
        "id": "222ea7e0"
      },
      "source": [
        "## Extracting Data"
      ]
    },
    {
      "cell_type": "code",
      "execution_count": null,
      "id": "7d9ec058",
      "metadata": {
        "id": "7d9ec058"
      },
      "outputs": [],
      "source": [
        "module = os.path.abspath('./WESAD/')\n",
        "if module not in sys.path:\n",
        "    sys.path.append(module)\n",
        "from DataManager import DataManager"
      ]
    },
    {
      "cell_type": "markdown",
      "id": "f16ff72e",
      "metadata": {
        "id": "f16ff72e"
      },
      "source": [
        "## Data Preprocessing"
      ]
    },
    {
      "cell_type": "code",
      "execution_count": null,
      "id": "bc630bdd",
      "metadata": {
        "id": "bc630bdd"
      },
      "outputs": [],
      "source": [
        "# config\n",
        "debug = False;"
      ]
    },
    {
      "cell_type": "code",
      "execution_count": null,
      "id": "0d8d66af",
      "metadata": {
        "id": "0d8d66af"
      },
      "outputs": [],
      "source": [
        "# subject_ids = [2, 3, 4, 5, 6, 7, 8, 9, 10, 11, 13, 14, 15, 16, 17]"
      ]
    },
    {
      "cell_type": "code",
      "execution_count": null,
      "id": "c1d8eff6",
      "metadata": {
        "id": "c1d8eff6"
      },
      "outputs": [],
      "source": [
        "test_subject = [17]\n",
        "rest_subjects = [2, 3, 4, 5, 6, 7, 8, 9, 10, 11, 13, 14, 15, 16]"
      ]
    },
    {
      "cell_type": "code",
      "execution_count": null,
      "id": "66da8248",
      "metadata": {
        "id": "66da8248"
      },
      "outputs": [],
      "source": [
        "def generateData(subject_ids):\n",
        "    data = DataManager()\n",
        "    all_subject_data = np.array([]);\n",
        "    all_subject_labels = np.array([]);\n",
        "\n",
        "#     subject_ids = [2, 3]\n",
        "\n",
        "    for subject_id in subject_ids:\n",
        "        if(debug): print(\"Processing subject id: \", subject_id);\n",
        "        subject = data.load(subject_id)\n",
        "\n",
        "\n",
        "        if(debug):\n",
        "            print('baseline: ', subject[0], '\\nstress: ', subject[1], '\\namusement: ', subject[2], '\\nbase_label: ', subject[3], '\\nstress_label: ', subject[4], '\\namuse_label: ', subject[5])\n",
        "\n",
        "        ecg_base = subject[0]\n",
        "        ecg_stress = subject[1]\n",
        "        ecg_amusement = subject[2]\n",
        "\n",
        "        base_label = subject[3]\n",
        "        stress_label = subject[4]\n",
        "        amuse_label = subject[5]\n",
        "\n",
        "        ecg_base_T = ecg_base.T\n",
        "        ecg_stress_T = ecg_stress.T\n",
        "        ecg_amusement_T = ecg_amusement.T\n",
        "\n",
        "        ecg_base_data = ecg_base_T[0]\n",
        "        ecg_stress_data = ecg_stress_T[0]\n",
        "        ecg_amusement_data = ecg_amusement_T[0]\n",
        "\n",
        "        ecg_base_label =  base_label.T\n",
        "        ecg_stress_label  = stress_label.T\n",
        "        ecg_amusement_label  = amuse_label.T\n",
        "\n",
        "        if(debug):\n",
        "            print('ecg_base_data:', ecg_base_data)\n",
        "            print('ecg_stress_data:', ecg_stress_data)\n",
        "            print('ecg_amusement_data:', ecg_amusement_data)\n",
        "\n",
        "            print('ecg_base_label:', ecg_base_label)\n",
        "            print('ecg_stress_label:', ecg_stress_label)\n",
        "            print('ecg_amusement_label:', ecg_amusement_label)\n",
        "\n",
        "\n",
        "        base_secs = len(ecg_base_data) // 700 # Number of seconds in signal X\n",
        "        base_samps = int(base_secs * 256 )    # Number of samples to downsample\n",
        "        base_down = signal.resample(ecg_base_data, base_samps)\n",
        "\n",
        "\n",
        "        stress_secs = len(ecg_stress_data) // 700 # Number of seconds in signal X\n",
        "        stress_samps = int(stress_secs * 256 )    # Number of samples to downsample\n",
        "        stress_down = signal.resample(ecg_stress_data, stress_samps)\n",
        "\n",
        "\n",
        "        amuse_secs = len(ecg_amusement_data) // 700 # Number of seconds in signal X\n",
        "        amuse_samps = int(amuse_secs * 256 )    # Number of samples to downsample\n",
        "        amuse_down = signal.resample(ecg_amusement_data, amuse_samps)\n",
        "\n",
        "    #     heart_beat_base = np.array_split(base_down, 256)\n",
        "    #     heart_beat_stress = np.array_split(stress_down, 256)\n",
        "    #     heart_beat_amuse = np.array_split(amuse_down, 256)\n",
        "\n",
        "        window_size = 256\n",
        "        window_shift = 256\n",
        "\n",
        "        heart_beat_base = []\n",
        "        for i in range(0,len(base_down) - window_size,window_shift):\n",
        "            heart_beat_base.append(base_down[i:window_size + i])\n",
        "        heart_beat_base.pop()\n",
        "    #     heart_beat_base = np.array(list(heart_beat_base[:]), dtype=float)\n",
        "\n",
        "        heart_beat_stress = []\n",
        "        for i in range(0,len(stress_down) - window_size,window_shift):\n",
        "            heart_beat_stress.append(stress_down[i:window_size + i])\n",
        "        heart_beat_stress.pop()\n",
        "    #     heart_beat_stress = np.array(list(heart_beat_stress[:]), dtype=float)\n",
        "\n",
        "        heart_beat_amuse = []\n",
        "        for i in range(0,len(amuse_down) - window_size,window_shift):\n",
        "            heart_beat_amuse.append(amuse_down[i:window_size + i])\n",
        "        heart_beat_amuse.pop()\n",
        "    #     heart_beat_amuse = np.array(list(heart_beat_amuse[:]), dtype=float)\n",
        "\n",
        "\n",
        "        for idx, idxval in enumerate(heart_beat_base):\n",
        "            heart_beat_base[idx] = (heart_beat_base[idx] - heart_beat_base[idx].min()) / heart_beat_base[idx].ptp() # Normalize the readings to a 0-1 range \n",
        "            heart_beat_base[idx] = np.append(heart_beat_base[idx], 0.0) #Baseline = 0\n",
        "\n",
        "        for idx, idxval in enumerate(heart_beat_stress):\n",
        "            heart_beat_stress[idx] = (heart_beat_stress[idx] - heart_beat_stress[idx].min()) / heart_beat_stress[idx].ptp() # Normalize the readings to a 0-1 range \n",
        "            heart_beat_stress[idx] = np.append(heart_beat_stress[idx], 1.0) #Stress = 1    \n",
        "\n",
        "        for idx, idxval in enumerate(heart_beat_amuse):\n",
        "            heart_beat_amuse[idx] = (heart_beat_amuse[idx] - heart_beat_amuse[idx].min()) / heart_beat_amuse[idx].ptp() # Normalize the readings to a 0-1 range \n",
        "            heart_beat_amuse[idx] = np.append(heart_beat_amuse[idx], 2.0) #Amusement = 2\n",
        "\n",
        "    #     print(\"heart_beat_base:\", len(heart_beat_base[0]), len(heart_beat_base[-2]), len(heart_beat_base[-1]))\n",
        "    #     print(\"heart_beat_stress:\", len(heart_beat_stress[0]), len(heart_beat_stress[-1]))\n",
        "    #     print(\"heart_beat_amuse:\", len(heart_beat_amuse[0]), len(heart_beat_amuse[-1]))\n",
        "\n",
        "        heart_beat_all = np.concatenate((heart_beat_base, heart_beat_stress, heart_beat_amuse), axis=0)\n",
        "        subject_data = np.array(list(heart_beat_all[:]), dtype=float)\n",
        "\n",
        "\n",
        "        if(all_subject_data.size == 0):\n",
        "            all_subject_data = subject_data\n",
        "        else:\n",
        "            if(subject_data.size != 0):\n",
        "                all_subject_data = np.concatenate((all_subject_data, subject_data), axis=0)\n",
        "\n",
        "        print(\"New data shape\", subject_data.shape, \"Total Shape: \", all_subject_data.shape)\n",
        "        \n",
        "    #SMOTE to balance the data\n",
        "    df_final_data_X = pd.DataFrame(data=all_subject_data[:, :-1])\n",
        "    df_final_data_Y = pd.DataFrame(data=all_subject_data[:,-1])\n",
        "\n",
        "    smote = SMOTE(sampling_strategy='not majority')\n",
        "    X_sm, y_sm = smote.fit_resample(df_final_data_X, df_final_data_Y)\n",
        "    \n",
        "    return X_sm, y_sm"
      ]
    },
    {
      "cell_type": "markdown",
      "id": "8232f1fa",
      "metadata": {
        "id": "8232f1fa"
      },
      "source": [
        "## Data Generation - Train"
      ]
    },
    {
      "cell_type": "code",
      "execution_count": null,
      "id": "78e15cc1",
      "metadata": {
        "id": "78e15cc1",
        "colab": {
          "base_uri": "https://localhost:8080/"
        },
        "outputId": "5ae26540-5633-4127-ac08-b162e545a042"
      },
      "outputs": [
        {
          "output_type": "stream",
          "name": "stdout",
          "text": [
            "Loading data for S2\n",
            "New data shape (2115, 257) Total Shape:  (2115, 257)\n",
            "Loading data for S3\n",
            "New data shape (2149, 257) Total Shape:  (4264, 257)\n",
            "Loading data for S4\n",
            "New data shape (2159, 257) Total Shape:  (6423, 257)\n",
            "Loading data for S5\n",
            "New data shape (2211, 257) Total Shape:  (8634, 257)\n",
            "Loading data for S6\n",
            "New data shape (2196, 257) Total Shape:  (10830, 257)\n",
            "Loading data for S7\n",
            "New data shape (2192, 257) Total Shape:  (13022, 257)\n",
            "Loading data for S8\n",
            "New data shape (2202, 257) Total Shape:  (15224, 257)\n",
            "Loading data for S9\n",
            "New data shape (2191, 257) Total Shape:  (17415, 257)\n",
            "Loading data for S10\n",
            "New data shape (2271, 257) Total Shape:  (19686, 257)\n",
            "Loading data for S11\n",
            "New data shape (2222, 257) Total Shape:  (21908, 257)\n",
            "Loading data for S13\n",
            "New data shape (2220, 257) Total Shape:  (24128, 257)\n",
            "Loading data for S14\n",
            "New data shape (2221, 257) Total Shape:  (26349, 257)\n",
            "Loading data for S15\n",
            "New data shape (2227, 257) Total Shape:  (28576, 257)\n",
            "Loading data for S16\n",
            "New data shape (2215, 257) Total Shape:  (30791, 257)\n"
          ]
        }
      ],
      "source": [
        "train_data, train_labels = generateData(rest_subjects)"
      ]
    },
    {
      "cell_type": "code",
      "execution_count": null,
      "id": "c46ed6db",
      "metadata": {
        "id": "c46ed6db",
        "colab": {
          "base_uri": "https://localhost:8080/"
        },
        "outputId": "896f9cc5-dac0-4789-ac61-a884f36bc818"
      },
      "outputs": [
        {
          "output_type": "execute_result",
          "data": {
            "text/plain": [
              "0.0    16402\n",
              "1.0    16402\n",
              "2.0    16402\n",
              "dtype: int64"
            ]
          },
          "metadata": {},
          "execution_count": 14
        }
      ],
      "source": [
        "train_labels.value_counts()"
      ]
    },
    {
      "cell_type": "code",
      "execution_count": null,
      "id": "480c46f0",
      "metadata": {
        "id": "480c46f0",
        "colab": {
          "base_uri": "https://localhost:8080/"
        },
        "outputId": "30538d4a-2f35-4469-838e-07bcc436b205"
      },
      "outputs": [
        {
          "output_type": "stream",
          "name": "stdout",
          "text": [
            "Train data shape: (49206, 256)\n",
            "Train labels shape: (49206, 1)\n",
            "Dimension: 2\n"
          ]
        }
      ],
      "source": [
        "print(\"Train data shape:\", train_data.shape)\n",
        "print(\"Train labels shape:\", train_labels.shape)\n",
        "print(\"Dimension:\", train_labels.ndim)"
      ]
    },
    {
      "cell_type": "code",
      "execution_count": null,
      "id": "71b2fcf4",
      "metadata": {
        "id": "71b2fcf4"
      },
      "outputs": [],
      "source": [
        "train_labels = pd.DataFrame(train_labels).to_numpy()\n",
        "train_labels = train_labels.reshape(-1)"
      ]
    },
    {
      "cell_type": "code",
      "execution_count": null,
      "id": "62a1973a",
      "metadata": {
        "id": "62a1973a",
        "colab": {
          "base_uri": "https://localhost:8080/"
        },
        "outputId": "454215e8-bb00-42a6-d28c-0280ecdf5474"
      },
      "outputs": [
        {
          "output_type": "stream",
          "name": "stdout",
          "text": [
            "Train labels shape: (49206,)\n",
            "Dimension: 1\n"
          ]
        }
      ],
      "source": [
        "print(\"Train labels shape:\", train_labels.shape)\n",
        "print(\"Dimension:\", train_labels.ndim)"
      ]
    },
    {
      "cell_type": "markdown",
      "id": "76e728c1",
      "metadata": {
        "id": "76e728c1"
      },
      "source": [
        "## Train and Validation data split"
      ]
    },
    {
      "cell_type": "code",
      "execution_count": null,
      "id": "5d6b046b",
      "metadata": {
        "id": "5d6b046b"
      },
      "outputs": [],
      "source": [
        "X_train, X_val, y_train, y_val = train_test_split(train_data, train_labels, test_size=0.3, random_state=42)"
      ]
    },
    {
      "cell_type": "code",
      "execution_count": null,
      "id": "b575ded6",
      "metadata": {
        "id": "b575ded6"
      },
      "outputs": [],
      "source": [
        "#Reshape train and validation data to (n_samples, 256, 1), where each sample is of size (256, 1)\n",
        "X_train = np.array(X_train).reshape(X_train.shape[0], X_train.shape[1], 1)\n",
        "X_val = np.array(X_val).reshape(X_val.shape[0], X_val.shape[1], 1)"
      ]
    },
    {
      "cell_type": "code",
      "execution_count": null,
      "id": "f2c4f94a",
      "metadata": {
        "id": "f2c4f94a",
        "colab": {
          "base_uri": "https://localhost:8080/"
        },
        "outputId": "857aabd6-7871-49e0-b71e-521dbbbca1b5"
      },
      "outputs": [
        {
          "output_type": "stream",
          "name": "stdout",
          "text": [
            "size of X_train: (34444, 256, 1)\n",
            "size of X_val: (14762, 256, 1)\n",
            "size of y_train: (34444,)\n",
            "size of y_val: (14762,)\n",
            "Train: Counter({1.0: 11489, 2.0: 11479, 0.0: 11476}) Counter({0.0: 4926, 2.0: 4923, 1.0: 4913})\n"
          ]
        }
      ],
      "source": [
        "print('size of X_train:', X_train.shape)\n",
        "print('size of X_val:', X_val.shape)\n",
        "\n",
        "print('size of y_train:', y_train.shape)\n",
        "print('size of y_val:', y_val.shape)\n",
        "\n",
        "print('Train:', Counter(y_train), Counter(y_val))"
      ]
    },
    {
      "cell_type": "markdown",
      "id": "527eb4b4",
      "metadata": {
        "id": "527eb4b4"
      },
      "source": [
        "## Data Generation - Test"
      ]
    },
    {
      "cell_type": "code",
      "execution_count": null,
      "id": "91a30c80",
      "metadata": {
        "id": "91a30c80",
        "colab": {
          "base_uri": "https://localhost:8080/"
        },
        "outputId": "388397d8-c215-4b0d-f423-c300e915a07d"
      },
      "outputs": [
        {
          "output_type": "stream",
          "name": "stdout",
          "text": [
            "Loading data for S17\n",
            "New data shape (2270, 257) Total Shape:  (2270, 257)\n"
          ]
        }
      ],
      "source": [
        "test_data, test_labels = generateData(test_subject)"
      ]
    },
    {
      "cell_type": "code",
      "execution_count": null,
      "id": "c08e23de",
      "metadata": {
        "id": "c08e23de",
        "colab": {
          "base_uri": "https://localhost:8080/"
        },
        "outputId": "dd9b7cc1-26ca-41a7-dacc-664c414a7ed0"
      },
      "outputs": [
        {
          "output_type": "execute_result",
          "data": {
            "text/plain": [
              "0.0    1179\n",
              "1.0    1179\n",
              "2.0    1179\n",
              "dtype: int64"
            ]
          },
          "metadata": {},
          "execution_count": 22
        }
      ],
      "source": [
        "test_labels.value_counts()"
      ]
    },
    {
      "cell_type": "code",
      "execution_count": null,
      "id": "95d493ea",
      "metadata": {
        "id": "95d493ea",
        "colab": {
          "base_uri": "https://localhost:8080/"
        },
        "outputId": "c88b2461-8914-46f0-fcf6-fabe3f006739"
      },
      "outputs": [
        {
          "output_type": "stream",
          "name": "stdout",
          "text": [
            "Test data shape: (3537, 256)\n",
            "Test labels shape: (3537, 1)\n",
            "Dimension: 2\n"
          ]
        }
      ],
      "source": [
        "print(\"Test data shape:\", test_data.shape)\n",
        "print(\"Test labels shape:\", test_labels.shape)\n",
        "print(\"Dimension:\", test_labels.ndim)"
      ]
    },
    {
      "cell_type": "code",
      "execution_count": null,
      "id": "7f261521",
      "metadata": {
        "id": "7f261521"
      },
      "outputs": [],
      "source": [
        "test_labels = pd.DataFrame(test_labels).to_numpy()\n",
        "y_test = test_labels.reshape(-1)"
      ]
    },
    {
      "cell_type": "code",
      "execution_count": null,
      "id": "eaf6621a",
      "metadata": {
        "id": "eaf6621a",
        "colab": {
          "base_uri": "https://localhost:8080/"
        },
        "outputId": "ec14884a-68a2-4658-98e3-d9d5b5c5fd2e"
      },
      "outputs": [
        {
          "output_type": "stream",
          "name": "stdout",
          "text": [
            "Test labels shape: (3537,)\n",
            "Dimension: 1\n"
          ]
        }
      ],
      "source": [
        "print(\"Test labels shape:\", y_test.shape)\n",
        "print(\"Dimension:\", y_test.ndim)"
      ]
    },
    {
      "cell_type": "code",
      "execution_count": null,
      "id": "ef372ad9",
      "metadata": {
        "id": "ef372ad9"
      },
      "outputs": [],
      "source": [
        "#Reshape test data to (n_samples, 256, 1), where each sample is of size (256, 1)\n",
        "X_test = np.array(test_data).reshape(test_data.shape[0], test_data.shape[1], 1)"
      ]
    },
    {
      "cell_type": "code",
      "execution_count": null,
      "id": "f7178055",
      "metadata": {
        "id": "f7178055",
        "colab": {
          "base_uri": "https://localhost:8080/"
        },
        "outputId": "79eb29f7-6c27-4e5b-fb78-68def57b06b4"
      },
      "outputs": [
        {
          "output_type": "stream",
          "name": "stdout",
          "text": [
            "size of X_test: (3537, 256, 1)\n",
            "size of y_test: (3537,)\n",
            "Test: Counter({0.0: 1179, 1.0: 1179, 2.0: 1179})\n"
          ]
        }
      ],
      "source": [
        "print('size of X_test:', X_test.shape)\n",
        "print('size of y_test:', y_test.shape)\n",
        "\n",
        "print('Test:', Counter(y_test))"
      ]
    },
    {
      "cell_type": "markdown",
      "id": "a39a597b",
      "metadata": {
        "id": "a39a597b"
      },
      "source": [
        "## 1D CNN Model Architecture"
      ]
    },
    {
      "cell_type": "code",
      "execution_count": null,
      "id": "a9e7d81d",
      "metadata": {
        "id": "a9e7d81d"
      },
      "outputs": [],
      "source": [
        "from tensorflow.keras.models import Sequential\n",
        "from tensorflow.keras.layers import Dense, Flatten, Conv1D, BatchNormalization, MaxPool1D\n",
        "from tensorflow.keras.optimizers import SGD, Adam\n",
        "from tensorflow.keras.callbacks import LearningRateScheduler"
      ]
    },
    {
      "cell_type": "code",
      "execution_count": null,
      "id": "3d5805ab",
      "metadata": {
        "id": "3d5805ab",
        "colab": {
          "base_uri": "https://localhost:8080/"
        },
        "outputId": "9e1360ce-dee4-458a-88f9-ee7d71262cf6"
      },
      "outputs": [
        {
          "output_type": "stream",
          "name": "stdout",
          "text": [
            "Model: \"sequential\"\n",
            "_________________________________________________________________\n",
            " Layer (type)                Output Shape              Param #   \n",
            "=================================================================\n",
            " conv1d (Conv1D)             (None, 256, 5)            30        \n",
            "                                                                 \n",
            " max_pooling1d (MaxPooling1D  (None, 128, 5)           0         \n",
            " )                                                               \n",
            "                                                                 \n",
            " conv1d_1 (Conv1D)           (None, 128, 10)           260       \n",
            "                                                                 \n",
            " max_pooling1d_1 (MaxPooling  (None, 64, 10)           0         \n",
            " 1D)                                                             \n",
            "                                                                 \n",
            " conv1d_2 (Conv1D)           (None, 64, 15)            765       \n",
            "                                                                 \n",
            " max_pooling1d_2 (MaxPooling  (None, 32, 15)           0         \n",
            " 1D)                                                             \n",
            "                                                                 \n",
            " flatten (Flatten)           (None, 480)               0         \n",
            "                                                                 \n",
            " dense (Dense)               (None, 128)               61568     \n",
            "                                                                 \n",
            " dense_1 (Dense)             (None, 3)                 387       \n",
            "                                                                 \n",
            "=================================================================\n",
            "Total params: 63,010\n",
            "Trainable params: 63,010\n",
            "Non-trainable params: 0\n",
            "_________________________________________________________________\n"
          ]
        }
      ],
      "source": [
        "reset_random_seeds()\n",
        "# kernel_regularizer =tf.keras.regularizers.l2(l=0.004)\n",
        "# initializer = tf.keras.initializers.HeUniform()\n",
        "cnn_model = tf.keras.models.Sequential()\n",
        "cnn_model.add(Conv1D(filters=5, kernel_size=(5,), padding='same',  activation='relu', input_shape= (X_train.shape[1],1)))\n",
        "cnn_model.add(MaxPool1D(pool_size=(2,), strides=2))\n",
        "cnn_model.add(Conv1D(filters=10, kernel_size=(5,), padding='same', activation='relu', kernel_regularizer =tf.keras.regularizers.l2(l=0.004)))\n",
        "cnn_model.add(MaxPool1D(pool_size=(2,), strides=2))\n",
        "cnn_model.add(Conv1D(filters=15, kernel_size=(5,), padding='same', activation='relu', kernel_regularizer =tf.keras.regularizers.l2(l=0.004)))\n",
        "cnn_model.add(MaxPool1D(pool_size=(2,), strides=2))\n",
        "cnn_model.add(Flatten())\n",
        "cnn_model.add(Dense(units = 128, activation='relu', kernel_regularizer =tf.keras.regularizers.l2(l=0.004)))\n",
        "cnn_model.add(Dense(units = 3, activation='softmax'))\n",
        "cnn_model.summary()"
      ]
    },
    {
      "cell_type": "code",
      "execution_count": null,
      "id": "96f3ac69",
      "metadata": {
        "id": "96f3ac69",
        "colab": {
          "base_uri": "https://localhost:8080/"
        },
        "outputId": "97788636-11cd-491e-a802-186276cc9b25"
      },
      "outputs": [
        {
          "output_type": "stream",
          "name": "stdout",
          "text": [
            "<keras.layers.convolutional.conv1d.Conv1D object at 0x7f6cd04329a0>\n",
            "[[[ 0.14718884 -0.05276513 -0.1315859  -0.03176779 -0.4171068 ]]\n",
            "\n",
            " [[ 0.16517597  0.21476758  0.33312452 -0.24478115 -0.24758025]]\n",
            "\n",
            " [[-0.16959405  0.19886321 -0.32808736  0.04298964  0.06673217]]\n",
            "\n",
            " [[ 0.35748774 -0.43874902  0.01898932  0.12034023 -0.26892895]]\n",
            "\n",
            " [[ 0.20520169  0.04099566 -0.35100406  0.15805072  0.14335549]]]\n",
            "(5, 1, 5)\n",
            "[0. 0. 0. 0. 0.]\n"
          ]
        }
      ],
      "source": [
        "print(cnn_model.layers[0])\n",
        "print(cnn_model.layers[0].get_weights()[0])\n",
        "print(cnn_model.layers[0].get_weights()[0].shape)\n",
        "print(cnn_model.layers[0].get_weights()[1])"
      ]
    },
    {
      "cell_type": "code",
      "execution_count": null,
      "id": "675ba45f",
      "metadata": {
        "id": "675ba45f"
      },
      "outputs": [],
      "source": [
        "# weights = 0.001 * (np.random.rand(5, 1, 5))\n",
        "# print(weights)\n",
        "# bias = np.random.rand(5)\n",
        "# print(bias)"
      ]
    },
    {
      "cell_type": "code",
      "execution_count": null,
      "id": "111d345e",
      "metadata": {
        "id": "111d345e"
      },
      "outputs": [],
      "source": [
        "# cnn_model.layers[0].set_weights([weights, bias])"
      ]
    },
    {
      "cell_type": "code",
      "execution_count": null,
      "id": "7f9bdf53",
      "metadata": {
        "id": "7f9bdf53"
      },
      "outputs": [],
      "source": [
        "epochs=50\n",
        "batch_size = 32"
      ]
    },
    {
      "cell_type": "code",
      "execution_count": null,
      "id": "fdfea2b2",
      "metadata": {
        "id": "fdfea2b2"
      },
      "outputs": [],
      "source": [
        "def step_decay(epoch):\n",
        "  initial_lrate = 0.005\n",
        "  drop = 0.6\n",
        "  epochs_drop = 10.0\n",
        "  lrate = initial_lrate * math.pow(drop, math.floor((1+epoch)/epochs_drop))\n",
        "  return lrate\n",
        "\n",
        "lrate = LearningRateScheduler(step_decay)\n",
        "callbacks_list = [lrate]"
      ]
    },
    {
      "cell_type": "code",
      "execution_count": null,
      "id": "a4cbc4a8",
      "metadata": {
        "id": "a4cbc4a8"
      },
      "outputs": [],
      "source": [
        "opt = tf.keras.optimizers.SGD( learning_rate=0.0, momentum=0.6, nesterov=False)\n",
        "\n",
        "cnn_model.compile(optimizer= opt, loss = 'sparse_categorical_crossentropy', metrics=['accuracy'])"
      ]
    },
    {
      "cell_type": "code",
      "execution_count": null,
      "id": "4866fedc",
      "metadata": {
        "id": "4866fedc",
        "colab": {
          "base_uri": "https://localhost:8080/"
        },
        "outputId": "1188c83c-ab30-45a5-e1cb-668ed724348f"
      },
      "outputs": [
        {
          "output_type": "stream",
          "name": "stdout",
          "text": [
            "Epoch 1/50\n",
            "1077/1077 - 14s - loss: 1.8849 - accuracy: 0.3814 - val_loss: 1.7917 - val_accuracy: 0.4140 - lr: 0.0050 - 14s/epoch - 13ms/step\n",
            "Epoch 2/50\n",
            "1077/1077 - 5s - loss: 1.7123 - accuracy: 0.4191 - val_loss: 1.6370 - val_accuracy: 0.4352 - lr: 0.0050 - 5s/epoch - 4ms/step\n",
            "Epoch 3/50\n",
            "1077/1077 - 5s - loss: 1.5722 - accuracy: 0.4385 - val_loss: 1.5051 - val_accuracy: 0.4654 - lr: 0.0050 - 5s/epoch - 4ms/step\n",
            "Epoch 4/50\n",
            "1077/1077 - 5s - loss: 1.4356 - accuracy: 0.4833 - val_loss: 1.3640 - val_accuracy: 0.4884 - lr: 0.0050 - 5s/epoch - 4ms/step\n",
            "Epoch 5/50\n",
            "1077/1077 - 5s - loss: 1.3049 - accuracy: 0.5211 - val_loss: 1.2463 - val_accuracy: 0.5449 - lr: 0.0050 - 5s/epoch - 4ms/step\n",
            "Epoch 6/50\n",
            "1077/1077 - 5s - loss: 1.2135 - accuracy: 0.5429 - val_loss: 1.1882 - val_accuracy: 0.5343 - lr: 0.0050 - 5s/epoch - 4ms/step\n",
            "Epoch 7/50\n",
            "1077/1077 - 5s - loss: 1.1435 - accuracy: 0.5561 - val_loss: 1.1066 - val_accuracy: 0.5763 - lr: 0.0050 - 5s/epoch - 4ms/step\n",
            "Epoch 8/50\n",
            "1077/1077 - 5s - loss: 1.0861 - accuracy: 0.5703 - val_loss: 1.0587 - val_accuracy: 0.5768 - lr: 0.0050 - 5s/epoch - 4ms/step\n",
            "Epoch 9/50\n",
            "1077/1077 - 5s - loss: 1.0412 - accuracy: 0.5797 - val_loss: 1.0749 - val_accuracy: 0.5469 - lr: 0.0050 - 5s/epoch - 4ms/step\n",
            "Epoch 10/50\n",
            "1077/1077 - 5s - loss: 0.9940 - accuracy: 0.5966 - val_loss: 0.9782 - val_accuracy: 0.6035 - lr: 0.0030 - 5s/epoch - 4ms/step\n",
            "Epoch 11/50\n",
            "1077/1077 - 5s - loss: 0.9692 - accuracy: 0.6041 - val_loss: 0.9742 - val_accuracy: 0.5971 - lr: 0.0030 - 5s/epoch - 4ms/step\n",
            "Epoch 12/50\n",
            "1077/1077 - 5s - loss: 0.9483 - accuracy: 0.6105 - val_loss: 0.9451 - val_accuracy: 0.6127 - lr: 0.0030 - 5s/epoch - 4ms/step\n",
            "Epoch 13/50\n",
            "1077/1077 - 5s - loss: 0.9295 - accuracy: 0.6164 - val_loss: 0.9261 - val_accuracy: 0.6122 - lr: 0.0030 - 5s/epoch - 4ms/step\n",
            "Epoch 14/50\n",
            "1077/1077 - 5s - loss: 0.9114 - accuracy: 0.6225 - val_loss: 0.9117 - val_accuracy: 0.6225 - lr: 0.0030 - 5s/epoch - 4ms/step\n",
            "Epoch 15/50\n",
            "1077/1077 - 5s - loss: 0.8952 - accuracy: 0.6299 - val_loss: 0.8928 - val_accuracy: 0.6307 - lr: 0.0030 - 5s/epoch - 4ms/step\n",
            "Epoch 16/50\n",
            "1077/1077 - 5s - loss: 0.8789 - accuracy: 0.6356 - val_loss: 0.9324 - val_accuracy: 0.5996 - lr: 0.0030 - 5s/epoch - 4ms/step\n",
            "Epoch 17/50\n",
            "1077/1077 - 5s - loss: 0.8637 - accuracy: 0.6453 - val_loss: 0.8682 - val_accuracy: 0.6466 - lr: 0.0030 - 5s/epoch - 4ms/step\n",
            "Epoch 18/50\n",
            "1077/1077 - 5s - loss: 0.8533 - accuracy: 0.6506 - val_loss: 0.8637 - val_accuracy: 0.6374 - lr: 0.0030 - 5s/epoch - 4ms/step\n",
            "Epoch 19/50\n",
            "1077/1077 - 5s - loss: 0.8411 - accuracy: 0.6536 - val_loss: 0.8544 - val_accuracy: 0.6528 - lr: 0.0030 - 5s/epoch - 4ms/step\n",
            "Epoch 20/50\n",
            "1077/1077 - 5s - loss: 0.8093 - accuracy: 0.6739 - val_loss: 0.8443 - val_accuracy: 0.6544 - lr: 0.0018 - 5s/epoch - 4ms/step\n",
            "Epoch 21/50\n",
            "1077/1077 - 5s - loss: 0.8024 - accuracy: 0.6778 - val_loss: 0.8206 - val_accuracy: 0.6631 - lr: 0.0018 - 5s/epoch - 4ms/step\n",
            "Epoch 22/50\n",
            "1077/1077 - 5s - loss: 0.7957 - accuracy: 0.6766 - val_loss: 0.8169 - val_accuracy: 0.6601 - lr: 0.0018 - 5s/epoch - 4ms/step\n",
            "Epoch 23/50\n",
            "1077/1077 - 5s - loss: 0.7899 - accuracy: 0.6770 - val_loss: 0.8147 - val_accuracy: 0.6590 - lr: 0.0018 - 5s/epoch - 4ms/step\n",
            "Epoch 24/50\n",
            "1077/1077 - 5s - loss: 0.7847 - accuracy: 0.6823 - val_loss: 0.8760 - val_accuracy: 0.6490 - lr: 0.0018 - 5s/epoch - 4ms/step\n",
            "Epoch 25/50\n",
            "1077/1077 - 5s - loss: 0.7773 - accuracy: 0.6858 - val_loss: 0.7833 - val_accuracy: 0.6843 - lr: 0.0018 - 5s/epoch - 4ms/step\n",
            "Epoch 26/50\n",
            "1077/1077 - 5s - loss: 0.7721 - accuracy: 0.6915 - val_loss: 0.7869 - val_accuracy: 0.6829 - lr: 0.0018 - 5s/epoch - 4ms/step\n",
            "Epoch 27/50\n",
            "1077/1077 - 5s - loss: 0.7680 - accuracy: 0.6941 - val_loss: 0.7868 - val_accuracy: 0.6830 - lr: 0.0018 - 5s/epoch - 4ms/step\n",
            "Epoch 28/50\n",
            "1077/1077 - 5s - loss: 0.7628 - accuracy: 0.6933 - val_loss: 0.7731 - val_accuracy: 0.6939 - lr: 0.0018 - 5s/epoch - 4ms/step\n",
            "Epoch 29/50\n",
            "1077/1077 - 5s - loss: 0.7568 - accuracy: 0.6983 - val_loss: 0.7830 - val_accuracy: 0.6890 - lr: 0.0018 - 5s/epoch - 4ms/step\n",
            "Epoch 30/50\n",
            "1077/1077 - 5s - loss: 0.7302 - accuracy: 0.7139 - val_loss: 0.7603 - val_accuracy: 0.6998 - lr: 0.0011 - 5s/epoch - 4ms/step\n",
            "Epoch 31/50\n",
            "1077/1077 - 5s - loss: 0.7262 - accuracy: 0.7159 - val_loss: 0.7695 - val_accuracy: 0.6909 - lr: 0.0011 - 5s/epoch - 4ms/step\n",
            "Epoch 32/50\n",
            "1077/1077 - 5s - loss: 0.7236 - accuracy: 0.7177 - val_loss: 0.7591 - val_accuracy: 0.7022 - lr: 0.0011 - 5s/epoch - 4ms/step\n",
            "Epoch 33/50\n",
            "1077/1077 - 5s - loss: 0.7210 - accuracy: 0.7187 - val_loss: 0.7399 - val_accuracy: 0.7086 - lr: 0.0011 - 5s/epoch - 4ms/step\n",
            "Epoch 34/50\n",
            "1077/1077 - 5s - loss: 0.7160 - accuracy: 0.7203 - val_loss: 0.7437 - val_accuracy: 0.7130 - lr: 0.0011 - 5s/epoch - 5ms/step\n",
            "Epoch 35/50\n",
            "1077/1077 - 5s - loss: 0.7133 - accuracy: 0.7236 - val_loss: 0.7471 - val_accuracy: 0.7022 - lr: 0.0011 - 5s/epoch - 5ms/step\n",
            "Epoch 36/50\n",
            "1077/1077 - 5s - loss: 0.7103 - accuracy: 0.7238 - val_loss: 0.7434 - val_accuracy: 0.7126 - lr: 0.0011 - 5s/epoch - 5ms/step\n",
            "Epoch 37/50\n",
            "1077/1077 - 5s - loss: 0.7066 - accuracy: 0.7247 - val_loss: 0.7502 - val_accuracy: 0.7028 - lr: 0.0011 - 5s/epoch - 5ms/step\n",
            "Epoch 38/50\n",
            "1077/1077 - 5s - loss: 0.7046 - accuracy: 0.7251 - val_loss: 0.7426 - val_accuracy: 0.7084 - lr: 0.0011 - 5s/epoch - 4ms/step\n",
            "Epoch 39/50\n",
            "1077/1077 - 5s - loss: 0.7014 - accuracy: 0.7283 - val_loss: 0.7302 - val_accuracy: 0.7141 - lr: 0.0011 - 5s/epoch - 4ms/step\n",
            "Epoch 40/50\n",
            "1077/1077 - 5s - loss: 0.6794 - accuracy: 0.7430 - val_loss: 0.7177 - val_accuracy: 0.7252 - lr: 6.4800e-04 - 5s/epoch - 4ms/step\n",
            "Epoch 41/50\n",
            "1077/1077 - 5s - loss: 0.6763 - accuracy: 0.7453 - val_loss: 0.7242 - val_accuracy: 0.7230 - lr: 6.4800e-04 - 5s/epoch - 4ms/step\n",
            "Epoch 42/50\n",
            "1077/1077 - 5s - loss: 0.6744 - accuracy: 0.7467 - val_loss: 0.7319 - val_accuracy: 0.7156 - lr: 6.4800e-04 - 5s/epoch - 4ms/step\n",
            "Epoch 43/50\n",
            "1077/1077 - 5s - loss: 0.6720 - accuracy: 0.7449 - val_loss: 0.7164 - val_accuracy: 0.7280 - lr: 6.4800e-04 - 5s/epoch - 4ms/step\n",
            "Epoch 44/50\n",
            "1077/1077 - 5s - loss: 0.6696 - accuracy: 0.7472 - val_loss: 0.7230 - val_accuracy: 0.7245 - lr: 6.4800e-04 - 5s/epoch - 4ms/step\n",
            "Epoch 45/50\n",
            "1077/1077 - 5s - loss: 0.6669 - accuracy: 0.7491 - val_loss: 0.7125 - val_accuracy: 0.7295 - lr: 6.4800e-04 - 5s/epoch - 4ms/step\n",
            "Epoch 46/50\n",
            "1077/1077 - 5s - loss: 0.6655 - accuracy: 0.7514 - val_loss: 0.7131 - val_accuracy: 0.7264 - lr: 6.4800e-04 - 5s/epoch - 4ms/step\n",
            "Epoch 47/50\n",
            "1077/1077 - 5s - loss: 0.6628 - accuracy: 0.7525 - val_loss: 0.7165 - val_accuracy: 0.7253 - lr: 6.4800e-04 - 5s/epoch - 4ms/step\n",
            "Epoch 48/50\n",
            "1077/1077 - 5s - loss: 0.6613 - accuracy: 0.7503 - val_loss: 0.7160 - val_accuracy: 0.7240 - lr: 6.4800e-04 - 5s/epoch - 4ms/step\n",
            "Epoch 49/50\n",
            "1077/1077 - 5s - loss: 0.6599 - accuracy: 0.7514 - val_loss: 0.7318 - val_accuracy: 0.7117 - lr: 6.4800e-04 - 5s/epoch - 4ms/step\n",
            "Epoch 50/50\n",
            "1077/1077 - 5s - loss: 0.6422 - accuracy: 0.7652 - val_loss: 0.6871 - val_accuracy: 0.7462 - lr: 3.8880e-04 - 5s/epoch - 4ms/step\n"
          ]
        }
      ],
      "source": [
        "history = cnn_model.fit(X_train, y_train, epochs = epochs, batch_size = batch_size, validation_data = (X_val, y_val), callbacks=callbacks_list, verbose=2)"
      ]
    },
    {
      "cell_type": "code",
      "execution_count": null,
      "id": "3c22a2bc",
      "metadata": {
        "id": "3c22a2bc",
        "colab": {
          "base_uri": "https://localhost:8080/",
          "height": 308
        },
        "outputId": "62d22075-abce-4064-ecca-ed813d119443"
      },
      "outputs": [
        {
          "output_type": "display_data",
          "data": {
            "text/plain": [
              "<Figure size 864x288 with 2 Axes>"
            ],
            "image/png": "[encoded data removed]"
          },
          "metadata": {
            "needs_background": "light"
          }
        }
      ],
      "source": [
        "f, (ax1, ax2) = plt.subplots(1, 2, figsize=(12, 4))\n",
        "t = f.suptitle('1D CNN Performance', fontsize=12)\n",
        "f.subplots_adjust(top=0.85, wspace=0.3)\n",
        "\n",
        "max_epoch = len(history.history['accuracy'])+1\n",
        "epoch_list = list(range(1,max_epoch))\n",
        "ax1.plot(epoch_list, history.history['accuracy'], label='Train Accuracy')\n",
        "ax1.plot(epoch_list, history.history['val_accuracy'], label='Validation Accuracy')\n",
        "ax1.set_xticks(np.arange(1, max_epoch, 5))\n",
        "ax1.set_ylabel('Accuracy Value')\n",
        "ax1.set_xlabel('Epoch')\n",
        "ax1.set_title('Accuracy')\n",
        "l1 = ax1.legend(loc=\"best\")\n",
        "\n",
        "ax2.plot(epoch_list, history.history['loss'], label='Train Loss')\n",
        "ax2.plot(epoch_list, history.history['val_loss'], label='Validation Loss')\n",
        "ax2.set_xticks(np.arange(1, max_epoch, 5))\n",
        "ax2.set_ylabel('Loss Value')\n",
        "ax2.set_xlabel('Epoch')\n",
        "ax2.set_title('Loss')\n",
        "l2 = ax2.legend(loc=\"best\")"
      ]
    },
    {
      "cell_type": "code",
      "execution_count": null,
      "id": "29da2d94",
      "metadata": {
        "id": "29da2d94",
        "colab": {
          "base_uri": "https://localhost:8080/"
        },
        "outputId": "ad2849f6-dd41-45cb-af75-e24d64fcab93"
      },
      "outputs": [
        {
          "output_type": "stream",
          "name": "stdout",
          "text": [
            "111/111 [==============================] - 0s 3ms/step - loss: 0.7670 - accuracy: 0.5858\n"
          ]
        },
        {
          "output_type": "execute_result",
          "data": {
            "text/plain": [
              "[0.7670319080352783, 0.585807204246521]"
            ]
          },
          "metadata": {},
          "execution_count": 38
        }
      ],
      "source": [
        "cnn_model.evaluate(X_test, y_test)"
      ]
    },
    {
      "cell_type": "code",
      "source": [
        "print(X_test.shape)\n",
        "print(y_test.shape)"
      ],
      "metadata": {
        "id": "PKdiu8VzuAFD",
        "colab": {
          "base_uri": "https://localhost:8080/"
        },
        "outputId": "e89a5fa9-5f8b-4f16-c48b-583f464ecf49"
      },
      "id": "PKdiu8VzuAFD",
      "execution_count": null,
      "outputs": [
        {
          "output_type": "stream",
          "name": "stdout",
          "text": [
            "(3537, 256, 1)\n",
            "(3537,)\n"
          ]
        }
      ]
    },
    {
      "cell_type": "code",
      "source": [
        "from sklearn.metrics import classification_report, confusion_matrix\n",
        "y_test_preds = np.around(cnn_model.predict(X_test))\n",
        "print(y_test_preds)\n",
        "# y_preds = np.argmax(y_test_preds, axis=1)\n",
        "# y_test = np.argmax(y_test, axis=1)"
      ],
      "metadata": {
        "id": "-Z8JoNrctmN0",
        "colab": {
          "base_uri": "https://localhost:8080/"
        },
        "outputId": "4b9d9753-44e3-4dc3-e637-15be25c55fcb"
      },
      "id": "-Z8JoNrctmN0",
      "execution_count": null,
      "outputs": [
        {
          "output_type": "stream",
          "name": "stdout",
          "text": [
            "111/111 [==============================] - 0s 2ms/step\n",
            "[[0. 0. 1.]\n",
            " [0. 1. 0.]\n",
            " [0. 1. 0.]\n",
            " ...\n",
            " [1. 0. 0.]\n",
            " [0. 0. 0.]\n",
            " [0. 0. 0.]]\n"
          ]
        }
      ]
    },
    {
      "cell_type": "code",
      "source": [
        "y_test_preds.shape"
      ],
      "metadata": {
        "id": "vSOLrxuKuf0B",
        "colab": {
          "base_uri": "https://localhost:8080/"
        },
        "outputId": "d68effd3-708c-42ce-87e4-14e1809b6f20"
      },
      "id": "vSOLrxuKuf0B",
      "execution_count": null,
      "outputs": [
        {
          "output_type": "execute_result",
          "data": {
            "text/plain": [
              "(3537, 3)"
            ]
          },
          "metadata": {},
          "execution_count": 41
        }
      ]
    },
    {
      "cell_type": "code",
      "source": [
        "y_preds = np.argmax(y_test_preds, axis=1)"
      ],
      "metadata": {
        "id": "Z9gkjg2Uuoj7"
      },
      "id": "Z9gkjg2Uuoj7",
      "execution_count": null,
      "outputs": []
    },
    {
      "cell_type": "code",
      "source": [
        "y_preds.shape"
      ],
      "metadata": {
        "id": "uZpRsH1YustC",
        "colab": {
          "base_uri": "https://localhost:8080/"
        },
        "outputId": "7b7583fa-bf87-4cff-bf03-3c433501b982"
      },
      "id": "uZpRsH1YustC",
      "execution_count": null,
      "outputs": [
        {
          "output_type": "execute_result",
          "data": {
            "text/plain": [
              "(3537,)"
            ]
          },
          "metadata": {},
          "execution_count": 43
        }
      ]
    },
    {
      "cell_type": "code",
      "source": [
        "import sklearn.metrics as metrics"
      ],
      "metadata": {
        "id": "Ns2ur5oavUma"
      },
      "id": "Ns2ur5oavUma",
      "execution_count": null,
      "outputs": []
    },
    {
      "cell_type": "code",
      "source": [
        "print(metrics.classification_report(y_test, y_preds))"
      ],
      "metadata": {
        "id": "bQHhS5H9vY1S",
        "colab": {
          "base_uri": "https://localhost:8080/"
        },
        "outputId": "73845f73-9f24-472b-bda5-d62fea690f4c"
      },
      "id": "bQHhS5H9vY1S",
      "execution_count": null,
      "outputs": [
        {
          "output_type": "stream",
          "name": "stdout",
          "text": [
            "              precision    recall  f1-score   support\n",
            "\n",
            "         0.0       0.37      0.42      0.39      1179\n",
            "         1.0       0.95      0.94      0.95      1179\n",
            "         2.0       0.35      0.30      0.32      1179\n",
            "\n",
            "    accuracy                           0.56      3537\n",
            "   macro avg       0.56      0.56      0.55      3537\n",
            "weighted avg       0.56      0.56      0.55      3537\n",
            "\n"
          ]
        }
      ]
    },
    {
      "cell_type": "code",
      "source": [
        "gpu_info = !nvidia-smi\n",
        "gpu_info = '\\n'.join(gpu_info)\n",
        "if gpu_info.find('failed') >= 0:\n",
        "  print('Not connected to a GPU')\n",
        "else:\n",
        "  print(gpu_info)"
      ],
      "metadata": {
        "id": "pyKRHjBIu0f8",
        "colab": {
          "base_uri": "https://localhost:8080/"
        },
        "outputId": "5c8de478-d0bc-495d-c357-fad14a57ccc3"
      },
      "id": "pyKRHjBIu0f8",
      "execution_count": null,
      "outputs": [
        {
          "output_type": "stream",
          "name": "stdout",
          "text": [
            "Thu Dec 22 06:49:18 2022       \n",
            "+-----------------------------------------------------------------------------+\n",
            "| NVIDIA-SMI 460.32.03    Driver Version: 460.32.03    CUDA Version: 11.2     |\n",
            "|-------------------------------+----------------------+----------------------+\n",
            "| GPU  Name        Persistence-M| Bus-Id        Disp.A | Volatile Uncorr. ECC |\n",
            "| Fan  Temp  Perf  Pwr:Usage/Cap|         Memory-Usage | GPU-Util  Compute M. |\n",
            "|                               |                      |               MIG M. |\n",
            "|===============================+======================+======================|\n",
            "|   0  Tesla T4            Off  | 00000000:00:04.0 Off |                    0 |\n",
            "| N/A   63C    P0    29W /  70W |   1782MiB / 15109MiB |      6%      Default |\n",
            "|                               |                      |                  N/A |\n",
            "+-------------------------------+----------------------+----------------------+\n",
            "                                                                               \n",
            "+-----------------------------------------------------------------------------+\n",
            "| Processes:                                                                  |\n",
            "|  GPU   GI   CI        PID   Type   Process name                  GPU Memory |\n",
            "|        ID   ID                                                   Usage      |\n",
            "|=============================================================================|\n",
            "+-----------------------------------------------------------------------------+\n"
          ]
        }
      ]
    },
    {
      "cell_type": "code",
      "source": [],
      "metadata": {
        "id": "7h2sY0qzvrZt"
      },
      "id": "7h2sY0qzvrZt",
      "execution_count": null,
      "outputs": []
    }
  ],
  "metadata": {
    "kernelspec": {
      "display_name": "Python 3 (ipykernel)",
      "language": "python",
      "name": "python3"
    },
    "language_info": {
      "codemirror_mode": {
        "name": "ipython",
        "version": 3
      },
      "file_extension": ".py",
      "mimetype": "text/x-python",
      "name": "python",
      "nbconvert_exporter": "python",
      "pygments_lexer": "ipython3",
      "version": "3.9.12"
    },
    "colab": {
      "provenance": [],
      "machine_shape": "hm"
    },
    "accelerator": "GPU",
    "gpuClass": "premium"
  },
  "nbformat": 4,
  "nbformat_minor": 5
}